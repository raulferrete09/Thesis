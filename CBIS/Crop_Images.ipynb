{
 "cells": [
  {
   "cell_type": "code",
   "execution_count": 3,
   "id": "7d1dbbec-ab07-4db0-9fb7-3b931be0f0b5",
   "metadata": {},
   "outputs": [],
   "source": [
    "import cv2\n",
    "import matplotlib.pyplot as plt\n",
    "\n",
    "im = cv2.imread('E:/Dataset/Mammography/3_1/P_00001_LEFT_CC_0_mask.png')\n",
    "gray=cv2.cvtColor(im,cv2.COLOR_BGR2GRAY)\n",
    "contours, hierarchy = cv2.findContours(gray,cv2.RETR_LIST,cv2.CHAIN_APPROX_SIMPLE)"
   ]
  },
  {
   "cell_type": "code",
   "execution_count": 4,
   "id": "367318e0-2f7c-4da3-a765-270de095fd7d",
   "metadata": {
    "tags": []
   },
   "outputs": [
    {
     "data": {
      "text/plain": [
       "<matplotlib.image.AxesImage at 0x226861d0448>"
      ]
     },
     "execution_count": 4,
     "metadata": {},
     "output_type": "execute_result"
    },
    {
     "data": {
      "image/png": "[encoded data removed]",
      "text/plain": [
       "<Figure size 432x288 with 1 Axes>"
      ]
     },
     "metadata": {
      "needs_background": "light"
     },
     "output_type": "display_data"
    }
   ],
   "source": [
    "plt.imshow(gray,'gray')"
   ]
  },
  {
   "cell_type": "code",
   "execution_count": 15,
   "id": "7b1d7bec-8181-44a2-a97d-f9898a5f6a1d",
   "metadata": {},
   "outputs": [
    {
     "data": {
      "text/plain": [
       "(array([[[ 418, 2852]],\n",
       " \n",
       "        [[ 419, 2851]],\n",
       " \n",
       "        [[ 420, 2851]],\n",
       " \n",
       "        [[ 421, 2852]],\n",
       " \n",
       "        [[ 420, 2853]],\n",
       " \n",
       "        [[ 419, 2853]]], dtype=int32),\n",
       " array([[[ 379, 2832]],\n",
       " \n",
       "        [[ 380, 2832]]], dtype=int32),\n",
       " array([[[ 328, 2789]]], dtype=int32),\n",
       " array([[[ 512, 2764]]], dtype=int32),\n",
       " array([[[ 320, 2743]]], dtype=int32),\n",
       " array([[[ 566, 2740]],\n",
       " \n",
       "        [[ 568, 2740]]], dtype=int32),\n",
       " array([[[ 270, 2718]]], dtype=int32),\n",
       " array([[[ 632, 2683]]], dtype=int32),\n",
       " array([[[ 647, 2584]]], dtype=int32),\n",
       " array([[[ 342, 2459]],\n",
       " \n",
       "        [[ 342, 2460]],\n",
       " \n",
       "        [[ 343, 2459]]], dtype=int32),\n",
       " array([[[ 497, 2456]]], dtype=int32),\n",
       " array([[[ 426, 2422]],\n",
       " \n",
       "        [[ 429, 2422]],\n",
       " \n",
       "        [[ 430, 2423]],\n",
       " \n",
       "        ...,\n",
       " \n",
       "        [[ 453, 2428]],\n",
       " \n",
       "        [[ 452, 2427]],\n",
       " \n",
       "        [[ 452, 2422]]], dtype=int32))"
      ]
     },
     "execution_count": 15,
     "metadata": {},
     "output_type": "execute_result"
    }
   ],
   "source": [
    "contours"
   ]
  },
  {
   "cell_type": "code",
   "execution_count": 2,
   "id": "dea069f7-dc58-4a5e-9a6b-89b15301c9bd",
   "metadata": {},
   "outputs": [
    {
     "data": {
      "image/png": "[encoded data removed]",
      "text/plain": [
       "<Figure size 432x288 with 1 Axes>"
      ]
     },
     "metadata": {
      "needs_background": "light"
     },
     "output_type": "display_data"
    }
   ],
   "source": [
    "import matplotlib.pyplot as plt\n",
    "import matplotlib.patches as patches\n",
    "from PIL import Image\n",
    "\n",
    "im = Image.open('F:/Dataset/Mammography/3_1/P_02092_LEFT_MLO_0_mask.png')\n",
    "\n",
    "# Create figure and axes\n",
    "fig, ax = plt.subplots()\n",
    "\n",
    "# Display the image\n",
    "ax.imshow(im)\n",
    "\n",
    "# Create a Rectangle patch\n",
    "rect = patches.Rectangle((567, 1000), 500, 500, linewidth=1, edgecolor='r', facecolor='none')\n",
    "\n",
    "# Add the patch to the Axes\n",
    "ax.add_patch(rect)\n",
    "\n",
    "plt.show()"
   ]
  },
  {
   "cell_type": "code",
   "execution_count": 28,
   "id": "fb439bb5-bd9e-40a0-b210-4d820429f620",
   "metadata": {},
   "outputs": [
    {
     "name": "stdout",
     "output_type": "stream",
     "text": [
      "{'m00': 4.0, 'm10': 1678.0, 'm01': 11408.0, 'm20': 703922.6666666666, 'm11': 4785656.0, 'm02': 32535617.0, 'm30': 295296957.0, 'm21': 2007587445.3333333, 'm12': 13648691331.5, 'm03': 92791585388.0, 'mu20': 1.6666666666278616, 'mu11': 0.0, 'mu02': 1.0, 'mu30': 5.960464477539063e-08, 'mu21': 3.119930624961853e-08, 'mu12': 0.0, 'mu03': 0.0, 'nu20': 0.10416666666424135, 'nu11': 0.0, 'nu02': 0.0625, 'nu30': 1.862645149230957e-09, 'nu21': 9.74978320300579e-10, 'nu12': 0.0, 'nu03': 0.0}\n"
     ]
    }
   ],
   "source": [
    "import numpy as np\n",
    "import cv2 as cv\n",
    "img = cv.imread('E:/Dataset/Mammography/3_1/P_00001_LEFT_CC_0_mask.png',0)\n",
    "ret,thresh = cv.threshold(img,127,255,0)\n",
    "contours,hierarchy = cv.findContours(img, 1, 2)\n",
    "cnt = contours[0]\n",
    "M = cv.moments(cnt)\n",
    "print( M )"
   ]
  },
  {
   "cell_type": "code",
   "execution_count": 37,
   "id": "d5a6496d-b467-434a-ab9d-77048d29c98e",
   "metadata": {},
   "outputs": [],
   "source": [
    "import numpy as np\n",
    "import cv2 as cv\n",
    "img = cv.imread('E:/Dataset/Mammography/3_1/P_00001_LEFT_CC_0_mask.png',0)\n",
    "M = cv2.moments(img)\n",
    "cX = int(M[\"m10\"] / M[\"m00\"])\n",
    "cY = int(M[\"m01\"] / M[\"m00\"])\n"
   ]
  },
  {
   "cell_type": "code",
   "execution_count": 40,
   "id": "ee22275e-828f-45e6-8508-824eae377188",
   "metadata": {},
   "outputs": [
    {
     "data": {
      "text/plain": [
       "444"
      ]
     },
     "execution_count": 40,
     "metadata": {},
     "output_type": "execute_result"
    }
   ],
   "source": [
    "cX"
   ]
  },
  {
   "cell_type": "code",
   "execution_count": null,
   "id": "51468af4-ce21-4bce-8043-24a136f48dd9",
   "metadata": {},
   "outputs": [],
   "source": []
  }
 ],
 "metadata": {
  "kernelspec": {
   "display_name": "Python 3 (ipykernel)",
   "language": "python",
   "name": "python3"
  },
  "language_info": {
   "codemirror_mode": {
    "name": "ipython",
    "version": 3
   },
   "file_extension": ".py",
   "mimetype": "text/x-python",
   "name": "python",
   "nbconvert_exporter": "python",
   "pygments_lexer": "ipython3",
   "version": "3.8.12"
  }
 },
 "nbformat": 4,
 "nbformat_minor": 5
}
