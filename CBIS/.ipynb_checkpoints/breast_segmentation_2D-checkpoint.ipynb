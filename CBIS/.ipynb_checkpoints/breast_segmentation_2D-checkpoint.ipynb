{
 "cells": [
  {
   "cell_type": "markdown",
   "metadata": {
    "tags": []
   },
   "source": [
    "# Breast Tumor in Ultrasound 2D Segmentation with MONAI\n",
    "\n",
    "1. Transforms for dictionary format data.\n",
    "1. Load Nifti image with metadata.\n",
    "1. Cache IO and transforms to accelerate training and validation.\n",
    "1. 2D UNet model, Dice loss function, Mean Dice metric for 2D segmentation task.\n",
    "1. Deterministic training for reproducibility.\n",
    "\n",
    "Target: Breast Tumor  \n",
    "Modality: Ultrasound  \n",
    "Dataset: 2D images in NII (80% Training + 10% Validation + 10% Testing)"
   ]
  },
  {
   "cell_type": "markdown",
   "metadata": {},
   "source": [
    "## Setup environment"
   ]
  },
  {
   "cell_type": "code",
   "execution_count": null,
   "metadata": {},
   "outputs": [],
   "source": [
    "!python -c \"import monai\" || pip install -q \"monai-weekly[gdown, nibabel, tqdm]\"\n",
    "!python -c \"import matplotlib\" || pip install -q matplotlib\n",
    "%matplotlib inline"
   ]
  },
  {
   "cell_type": "code",
   "execution_count": null,
   "metadata": {
    "tags": []
   },
   "outputs": [],
   "source": [
    "from monai.utils import first, set_determinism\n",
    "from monai.transforms import (\n",
    "    AsDiscrete,\n",
    "    AsDiscreted,\n",
    "    EnsureChannelFirstd,\n",
    "    Compose,\n",
    "    CropForegroundd,\n",
    "    LoadImaged,\n",
    "    Orientationd,\n",
    "    RandCropByPosNegLabeld,\n",
    "    ScaleIntensityRanged,\n",
    "    Spacingd,\n",
    "    EnsureTyped,\n",
    "    EnsureType,\n",
    "    Invertd,\n",
    "    \n",
    "    RandFlipd,\n",
    "    RandScaleIntensityd,\n",
    "    RandShiftIntensityd,\n",
    "    RandGaussianNoised,\n",
    "    RandGaussianSmoothd,\n",
    "    RandAdjustContrastd,\n",
    "    RandZoomd,\n",
    "    RandGridDistortiond,\n",
    ")\n",
    "from monai.handlers.utils import from_engine\n",
    "from monai.networks.layers import Norm\n",
    "from monai.metrics import DiceMetric\n",
    "from monai.losses import DiceLoss\n",
    "from monai.losses import DiceCELoss\n",
    "from monai.inferers import sliding_window_inference\n",
    "from monai.data import CacheDataset, DataLoader, Dataset, decollate_batch\n",
    "from monai.config import print_config\n",
    "from monai.apps import download_and_extract\n",
    "import torch\n",
    "import matplotlib.pyplot as plt\n",
    "import tempfile\n",
    "import shutil\n",
    "import os\n",
    "import time\n",
    "import glob\n",
    "import numpy as np\n",
    "from IPython.core.debugger import set_trace\n",
    "from torch.utils.tensorboard import SummaryWriter\n",
    "import random\n",
    "from monai.data.utils import pad_list_data_collate\n",
    "import pdb\n",
    "import torch.nn as nn\n",
    "import nibabel as nib\n",
    "import pdb\n",
    "\n",
    "from monai.networks.nets import UNet, UNETR, DynUNet, SegResNetVAE\n",
    "#DynUNet codigo no gmail\n",
    "\n",
    "# from MDANet import MDA_Net\n",
    "# from vitautoenc import ViTAutoEnc"
   ]
  },
  {
   "cell_type": "markdown",
   "metadata": {},
   "source": [
    "## Setup imports"
   ]
  },
  {
   "cell_type": "code",
   "execution_count": null,
   "metadata": {
    "tags": []
   },
   "outputs": [],
   "source": [
    "# Copyright 2020 MONAI Consortium\n",
    "# Licensed under the Apache License, Version 2.0 (the \"License\");\n",
    "# you may not use this file except in compliance with the License.\n",
    "# You may obtain a copy of the License at\n",
    "#     http://www.apache.org/licenses/LICENSE-2.0\n",
    "# Unless required by applicable law or agreed to in writing, software\n",
    "# distributed under the License is distributed on an \"AS IS\" BASIS,\n",
    "# WITHOUT WARRANTIES OR CONDITIONS OF ANY KIND, either express or implied.\n",
    "# See the License for the specific language governing permissions and\n",
    "# limitations under the License.\n",
    "\n",
    "\n",
    "print_config()"
   ]
  },
  {
   "cell_type": "markdown",
   "metadata": {},
   "source": [
    "## Dataset path"
   ]
  },
  {
   "cell_type": "code",
   "execution_count": null,
   "metadata": {},
   "outputs": [],
   "source": [
    "data_dir = \"/home/users/jvilaca/raul/3_2_CBIS_Croped_padding\"\n",
    "print(data_dir)"
   ]
  },
  {
   "cell_type": "markdown",
   "metadata": {},
   "source": [
    "## Set MSD Breast Ultrasound dataset path"
   ]
  },
  {
   "cell_type": "code",
   "execution_count": null,
   "metadata": {
    "tags": []
   },
   "outputs": [],
   "source": [
    "#Train\n",
    "train_images = sorted(\n",
    "    glob.glob(os.path.join(data_dir, \"imagesTr\", \"*.nii.gz\")))\n",
    "train_labels = sorted(\n",
    "    glob.glob(os.path.join(data_dir, \"labelsTr\", \"*.nii.gz\")))\n",
    "data_dicts = [\n",
    "    {\"image\": image_name, \"label\": label_name}\n",
    "    for image_name, label_name in zip(train_images, train_labels)\n",
    "]\n",
    "# random.shuffle(data_dicts)\n",
    "train_files=data_dicts\n",
    "# #Val\n",
    "# num_val = int(len(data_dicts))\n",
    "\n",
    "# train_files, val_files = data_dicts[:-num_val], data_dicts[-num_val:]\n",
    "\n",
    "#val\n",
    "val_images = sorted(\n",
    "    glob.glob(os.path.join(data_dir, \"imagesVl\", \"*.nii.gz\")))\n",
    "val_labels = sorted(\n",
    "    glob.glob(os.path.join(data_dir, \"labelsVl\", \"*.nii.gz\")))\n",
    "val_files = [\n",
    "    {\"image\": image_name, \"label\": label_name}\n",
    "    for image_name, label_name in zip(val_images, val_labels)\n",
    "]\n",
    "\n",
    "#Test\n",
    "test_images = sorted(\n",
    "    glob.glob(os.path.join(data_dir, \"imagesTs\", \"*.nii.gz\")))\n",
    "test_labels = sorted(\n",
    "    glob.glob(os.path.join(data_dir, \"labelsTs\", \"*.nii.gz\")))\n",
    "test_files = [\n",
    "    {\"image\": image_name, \"label\": label_name}\n",
    "    for image_name, label_name in zip(test_images, test_labels)\n",
    "]"
   ]
  },
  {
   "cell_type": "code",
   "execution_count": null,
   "metadata": {
    "scrolled": true,
    "tags": []
   },
   "outputs": [],
   "source": [
    "print(test_files)"
   ]
  },
  {
   "cell_type": "markdown",
   "metadata": {},
   "source": [
    "## Set deterministic training for reproducibility"
   ]
  },
  {
   "cell_type": "code",
   "execution_count": null,
   "metadata": {},
   "outputs": [],
   "source": [
    "set_determinism(seed=0)"
   ]
  },
  {
   "cell_type": "markdown",
   "metadata": {
    "tags": []
   },
   "source": [
    "## Setup transforms for training and validation\n",
    "\n",
    "Here we use several transforms to augment the dataset:\n",
    "1. `LoadImaged` loads the spleen CT images and labels from NIfTI format files.\n",
    "1. `AddChanneld` as the original data doesn't have channel dim, add 1 dim to construct \"channel first\" shape.\n",
    "1. `Spacingd` adjusts the spacing by `pixdim=(1.5, 1.5, 2.)` based on the affine matrix.\n",
    "1. `Orientationd` unifies the data orientation based on the affine matrix.\n",
    "1. `ScaleIntensityRanged` extracts intensity range [-57, 164] and scales to [0, 1].\n",
    "1. `CropForegroundd` removes all zero borders to focus on the valid body area of the images and labels.\n",
    "1. `RandCropByPosNegLabeld` randomly crop patch samples from big image based on pos / neg ratio.  \n",
    "The image centers of negative samples must be in valid body area.\n",
    "1. `RandAffined` efficiently performs `rotate`, `scale`, `shear`, `translate`, etc. together based on PyTorch affine transform.\n",
    "1. `EnsureTyped` converts the numpy array to PyTorch Tensor for further steps."
   ]
  },
  {
   "cell_type": "code",
   "execution_count": null,
   "metadata": {},
   "outputs": [],
   "source": [
    "train_transforms = Compose(\n",
    "    [\n",
    "        LoadImaged(keys=[\"image\", \"label\"]),\n",
    "        EnsureChannelFirstd(keys=[\"image\", \"label\"]),\n",
    "        ScaleIntensityRanged(\n",
    "            keys=[\"image\"], a_min=0, a_max=255,\n",
    "            b_min=0.0, b_max=1.0, clip=True,\n",
    "        ),\n",
    "        \n",
    "        RandFlipd(keys=[\"image\", \"label\"], prob=0.5, spatial_axis=0),\n",
    "        RandScaleIntensityd(keys=\"image\", factors=0.5, prob=0.5),\n",
    "        RandShiftIntensityd(keys=\"image\", offsets=0.5, prob=0.5),\n",
    "        RandGaussianNoised(keys=\"image\", prob=0.5, mean=0.0, std=0.05),\n",
    "        RandGaussianSmoothd(keys=\"image\", prob=0.25),\n",
    "        RandAdjustContrastd(keys=\"image\", prob=0.5, gamma=(0.5,2.5)),\n",
    "        RandZoomd(keys=[\"image\", \"label\"], prob=0.5, min_zoom=1, max_zoom=1.3),\n",
    "        RandGridDistortiond(keys=[\"image\", \"label\"], prob=0.5, distort_limit=(-0.2,0.2)),\n",
    "\n",
    "        EnsureTyped(keys=[\"image\", \"label\"]),\n",
    "    ]\n",
    ")\n",
    "val_transforms = Compose(\n",
    "    [\n",
    "        LoadImaged(keys=[\"image\", \"label\"]),\n",
    "        EnsureChannelFirstd(keys=[\"image\", \"label\"]),\n",
    "        ScaleIntensityRanged(\n",
    "            keys=[\"image\"], a_min=0, a_max=255,\n",
    "            b_min=0.0, b_max=1.0, clip=True,\n",
    "        ),\n",
    "        EnsureTyped(keys=[\"image\", \"label\"]),\n",
    "    ]\n",
    ")\n",
    "\n",
    "test_transforms = Compose(\n",
    "    [\n",
    "        LoadImaged(keys=[\"image\", \"label\"]),\n",
    "        EnsureChannelFirstd(keys=[\"image\", \"label\"]),\n",
    "        ScaleIntensityRanged(\n",
    "            keys=[\"image\"], a_min=0, a_max=255,\n",
    "            b_min=0.0, b_max=1.0, clip=True,\n",
    "        ),\n",
    "        EnsureTyped(keys=[\"image\", \"label\"]),\n",
    "    ]\n",
    ")"
   ]
  },
  {
   "cell_type": "markdown",
   "metadata": {},
   "source": [
    "## Check transforms in DataLoader"
   ]
  },
  {
   "cell_type": "code",
   "execution_count": null,
   "metadata": {
    "tags": []
   },
   "outputs": [],
   "source": [
    "check_ds = Dataset(data=train_files, transform=train_transforms)\n",
    "check_loader = DataLoader(check_ds, batch_size=1)\n",
    "check_data = first(check_loader)\n",
    "image, label = (check_data[\"image\"][0][0], check_data[\"label\"][0][0])\n",
    "print(f\"image shape: {image.shape}, label shape: {label.shape}\")\n",
    "# plot the slice [:, :, 80]\n",
    "plt.figure(\"check\", (30, 15))\n",
    "plt.subplot(1, 2, 1)\n",
    "plt.title(\"image\")\n",
    "plt.imshow(image, cmap=\"gray\")\n",
    "plt.subplot(1, 2, 2)\n",
    "plt.title(\"label\")\n",
    "plt.imshow(label)\n",
    "plt.show()"
   ]
  },
  {
   "cell_type": "code",
   "execution_count": null,
   "metadata": {},
   "outputs": [],
   "source": [
    "np.shape(image)"
   ]
  },
  {
   "cell_type": "markdown",
   "metadata": {},
   "source": [
    "## Define CacheDataset and DataLoader for training and validation\n",
    "\n",
    "Here we use CacheDataset to accelerate training and validation process, it's 10x faster than the regular Dataset.  \n",
    "To achieve best performance, set `cache_rate=1.0` to cache all the data, if memory is not enough, set lower value.  \n",
    "Users can also set `cache_num` instead of `cache_rate`, will use the minimum value of the 2 settings.  \n",
    "And set `num_workers` to enable multi-threads during caching.  \n",
    "If want to to try the regular Dataset, just change to use the commented code below."
   ]
  },
  {
   "cell_type": "code",
   "execution_count": null,
   "metadata": {
    "scrolled": true,
    "tags": []
   },
   "outputs": [],
   "source": [
    "train_ds = CacheDataset(\n",
    "    data=train_files, transform=train_transforms,\n",
    "    cache_rate=1.0, num_workers=4)\n",
    "# train_ds = monai.data.Dataset(data=train_files, transform=train_transforms)\n",
    "\n",
    "train_loader = DataLoader(train_ds, batch_size=10, shuffle=True, num_workers=4)\n",
    "\n",
    "\n",
    "val_ds = CacheDataset(\n",
    "    data=val_files, transform=val_transforms, cache_rate=1.0, num_workers=4)\n",
    "# val_ds = Dataset(data=val_files, transform=val_transforms)\n",
    "\n",
    "val_loader = DataLoader(val_ds, batch_size=5, num_workers=4)\n",
    "\n",
    "\n",
    "test_ds = CacheDataset(\n",
    "    data=test_files, transform=test_transforms, cache_rate=1.0, num_workers=4)\n",
    "# val_ds = Dataset(data=val_files, transform=val_transforms)\n",
    "\n",
    "test_loader = DataLoader(test_ds, batch_size=1, num_workers=4)"
   ]
  },
  {
   "cell_type": "markdown",
   "metadata": {
    "tags": []
   },
   "source": [
    "## Create Model, Loss, Optimizer"
   ]
  },
  {
   "cell_type": "code",
   "execution_count": null,
   "metadata": {
    "tags": []
   },
   "outputs": [],
   "source": [
    "# standard PyTorch program style: create UNet, DiceLoss and Adam optimizer\n",
    "device = torch.device(\"cuda:2\")\n",
    "model = UNet(\n",
    "   spatial_dims=2,\n",
    "   in_channels=1,\n",
    "   out_channels=1,\n",
    "   channels=(16, 32, 64, 128, 256),\n",
    "   strides=(2, 2, 2, 2),\n",
    "   num_res_units=2,\n",
    "   norm=Norm.BATCH,\n",
    ").to(device)\n",
    "\n",
    "#model = MDA_Net(img_ch=1, output_ch=1).to(device) #é preciso tirar a sigmoid\n",
    "\n",
    "# model = UNETR(\n",
    "#    in_channels=1,\n",
    "#    out_channels=1,\n",
    "#    img_size=(512,384),\n",
    "#    spatial_dims=2,\n",
    "# ).to(device)\n",
    "\n",
    "# model = ViTAutoEnc(\n",
    "#     in_channels=1,\n",
    "#     img_size=(512,384,1),\n",
    "#     patch_size=(512//8,384//8,1),\n",
    "#     spatial_dims=3,\n",
    "# ).to(device)\n",
    "\n",
    "# automatically extracts the strides and kernels based on nnU-Net empirical rules\n",
    "# spacing = (1,1)\n",
    "# patch_size = (384,768)\n",
    "# spacings = spacing\n",
    "# sizes = patch_size\n",
    "# strides, kernels = [], []\n",
    "# while True:\n",
    "#    spacing_ratio = [sp / min(spacings) for sp in spacings]\n",
    "#    stride = [2 if ratio <= 2 and size >= 8 else 1 for (ratio, size) in zip(spacing_ratio, sizes)]\n",
    "#    kernel = [3 if ratio <= 2 else 1 for ratio in spacing_ratio]\n",
    "#    if all(s == 1 for s in stride):\n",
    "#        break\n",
    "#    sizes = [i / j for i, j in zip(sizes, stride)]\n",
    "#    spacings = [i * j for i, j in zip(spacings, stride)]\n",
    "#    kernels.append(kernel)\n",
    "#    strides.append(stride)\n",
    "# strides.insert(0, len(spacings) * [1])\n",
    "# kernels.append(len(spacings) * [3])\n",
    "\n",
    "# model = DynUNet(\n",
    "#    spatial_dims=2,\n",
    "#    in_channels=1,\n",
    "#    out_channels=1,\n",
    "#    kernel_size =kernels,\n",
    "#    strides=strides,\n",
    "#    upsample_kernel_size=strides,\n",
    "#    deep_supervision=False\n",
    "# ).to(device)\n",
    "              \n",
    "#loss_function = DiceLoss(sigmoid=False) #MDA_Net\n",
    "loss_function = DiceCELoss(sigmoid=True)\n",
    "optimizer = torch.optim.Adam(model.parameters(), 1e-4)\n",
    "dice_metric = DiceMetric(include_background=False, reduction=\"mean\")\n",
    "sig = nn.Sigmoid()\n"
   ]
  },
  {
   "cell_type": "code",
   "execution_count": null,
   "metadata": {},
   "outputs": [],
   "source": [
    "#np.shape(outputs[0])"
   ]
  },
  {
   "cell_type": "markdown",
   "metadata": {},
   "source": [
    "# Training! Stop here"
   ]
  },
  {
   "cell_type": "markdown",
   "metadata": {},
   "source": [
    "## Create root path"
   ]
  },
  {
   "cell_type": "code",
   "execution_count": null,
   "metadata": {},
   "outputs": [],
   "source": [
    "parent_dir = \"/home/users/jvilaca/raul/Methods/UNet/\"\n",
    "mes_ext = {1: 'Jan', 2 : 'Feb', 3: 'Mar', 4: 'Apr', 5: 'May',6:'Jun',7:'Jul', 8:'Aug',9:'Sep', 10: 'Oct', 11:'Nov', 12:'Dec'}\n",
    "month = time.strftime(\"%m\")\n",
    "time_str = time.strftime(\"%d_%H-%M-%S\")\n",
    "filename = mes_ext[int(month)]+time_str;\n",
    "\n",
    "path = os.path.join(parent_dir, filename)\n",
    "os.mkdir(path)\n",
    "\n",
    "root_dir = path\n",
    "print(root_dir)"
   ]
  },
  {
   "cell_type": "markdown",
   "metadata": {},
   "source": [
    "## Execute a typical PyTorch training process"
   ]
  },
  {
   "cell_type": "code",
   "execution_count": null,
   "metadata": {
    "scrolled": true,
    "tags": []
   },
   "outputs": [],
   "source": [
    "max_epochs = 5000\n",
    "val_interval = 2\n",
    "best_metric = -1\n",
    "best_metric_epoch = -1\n",
    "epoch_loss_values = []\n",
    "epoch_loss_values_val = []\n",
    "metric_values = []\n",
    "\n",
    "writer = SummaryWriter()\n",
    "\n",
    "for epoch in range(max_epochs):\n",
    "    print(\"-\" * 10)\n",
    "    print(f\"epoch {epoch + 1}/{max_epochs}\")\n",
    "    model.train()\n",
    "    epoch_loss = 0\n",
    "    epoch_loss_val = 0\n",
    "    step = 0\n",
    "    step_val = 0\n",
    "    for batch_data in train_loader:\n",
    "        step += 1\n",
    "        inputs, labels = (\n",
    "            batch_data[\"image\"].to(device),\n",
    "            batch_data[\"label\"].to(device),\n",
    "        )\n",
    "        dims = np.shape(inputs)\n",
    "        inputs = torch.reshape(inputs,[dims[0],1,dims[2],dims[3]])\n",
    "        labels = torch.reshape(labels,[dims[0],1,dims[2],dims[3]])\n",
    "        optimizer.zero_grad()\n",
    "        outputs = model(inputs)\n",
    "        \n",
    "        loss = loss_function(outputs, labels)\n",
    "        # loss = loss_function(outputs, torch.cat((labels,labels),2))#para dyn_net\n",
    "        loss.backward()\n",
    "        optimizer.step()\n",
    "        epoch_loss += loss.item()\n",
    "        print(\n",
    "            f\"{step}/{len(train_ds) // train_loader.batch_size}, \"\n",
    "            f\"train_loss: {loss.item():.4f}\")\n",
    "        \n",
    "    # Loss/train\n",
    "    epoch_loss /= step\n",
    "    epoch_loss_values.append(epoch_loss)\n",
    "    writer.add_scalar(\"Loss/train\", epoch_loss,epoch+1)\n",
    "    print(f\"epoch {epoch + 1} average loss: {epoch_loss:.4f}\")\n",
    "\n",
    "    if (epoch + 1) % val_interval == 0:\n",
    "        model.eval()\n",
    "        with torch.no_grad():\n",
    "            for val_data in val_loader:\n",
    "                step_val += 1\n",
    "                val_inputs, val_labels = (\n",
    "                    val_data[\"image\"].to(device),\n",
    "                    val_data[\"label\"].to(device),\n",
    "                )\n",
    "                dimsVal = np.shape(val_inputs)\n",
    "                val_inputs = torch.reshape(val_inputs,[dimsVal[0],1,dimsVal[2],dimsVal[3]])\n",
    "                val_labels = torch.reshape(val_labels,[dimsVal[0],1,dimsVal[2],dimsVal[3]])\n",
    "                val_outputs = model(val_inputs)\n",
    "                \n",
    "                loss_val = loss_function(val_outputs, val_labels)\n",
    "                # loss_val = loss_function(val_outputs, torch.cat((val_labels,val_labels),1))\n",
    "                epoch_loss_val += loss_val.item()\n",
    "                val_outputs = sig(val_outputs)\n",
    "                val_outputs = torch.where(val_outputs>0.9, 1, 0)\n",
    "                \n",
    "                # compute metric for current iteration\n",
    "                dice_metric(y_pred=val_outputs, y=val_labels)\n",
    "                \n",
    "            # Loss/val\n",
    "            epoch_loss_val /= step_val\n",
    "            epoch_loss_values_val.append(epoch_loss_val)\n",
    "            writer.add_scalar(\"Loss/val\", epoch_loss_val,epoch+1)\n",
    "            \n",
    "            # Dice/val\n",
    "            # aggregate the final mean dice result\n",
    "            metric = dice_metric.aggregate().item()\n",
    "            writer.add_scalar(\"Dice/val\", metric,epoch+1)\n",
    "            # reset the status for next validation round\n",
    "            dice_metric.reset()\n",
    "\n",
    "            metric_values.append(metric)\n",
    "            if metric > best_metric:\n",
    "                best_metric = metric\n",
    "                best_metric_epoch = epoch + 1\n",
    "                torch.save({'model': model.state_dict(),'epoch': epoch+1,'optimizer': optimizer.state_dict()}, os.path.join(\n",
    "                    root_dir, \"best_metric_model.pth\"))\n",
    "                print(\"saved new best metric model\")\n",
    "                \n",
    "            print(\n",
    "                f\"current epoch: {epoch + 1} current mean dice: {metric:.4f}\"\n",
    "                f\"\\nbest mean dice: {best_metric:.4f} \"\n",
    "                f\"at epoch: {best_metric_epoch}\"\n",
    "            )\n",
    "\n",
    "torch.save({'model': model.state_dict(),'epoch': epoch+1,'optimizer': optimizer.state_dict()}, os.path.join(\n",
    "                    root_dir, \"final_metric_model.pth\"))"
   ]
  },
  {
   "cell_type": "code",
   "execution_count": null,
   "metadata": {
    "tags": []
   },
   "outputs": [],
   "source": [
    "print(\n",
    "    f\"train completed, best_metric: {best_metric:.4f} \"\n",
    "    f\"at epoch: {best_metric_epoch}\")"
   ]
  },
  {
   "cell_type": "markdown",
   "metadata": {},
   "source": [
    "## Plot the loss and metric"
   ]
  },
  {
   "cell_type": "code",
   "execution_count": null,
   "metadata": {},
   "outputs": [],
   "source": [
    "plt.figure(\"train\", (12, 6))\n",
    "plt.subplot(1, 2, 1)\n",
    "plt.title(\"Epoch Average Loss\")\n",
    "x = [i + 1 for i in range(len(epoch_loss_values))]\n",
    "y = epoch_loss_values\n",
    "plt.xlabel(\"epoch\")\n",
    "plt.plot(x, y)\n",
    "plt.subplot(1, 2, 2)\n",
    "plt.title(\"Val Mean Dice\")\n",
    "x = [val_interval * (i + 1) for i in range(len(metric_values))]\n",
    "y = metric_values\n",
    "plt.xlabel(\"epoch\")\n",
    "plt.plot(x, y)\n",
    "plt.show()"
   ]
  },
  {
   "cell_type": "markdown",
   "metadata": {},
   "source": [
    "# Finished training!"
   ]
  },
  {
   "cell_type": "markdown",
   "metadata": {},
   "source": [
    "## Check model output with the input image and label"
   ]
  },
  {
   "cell_type": "code",
   "execution_count": null,
   "metadata": {},
   "outputs": [],
   "source": [
    "x = 0\n",
    "model.eval()\n",
    "with torch.no_grad():\n",
    "    for val_data in val_loader:\n",
    "        val_inputs, val_labels = (\n",
    "            val_data[\"image\"].to(device),\n",
    "            val_data[\"label\"].to(device),\n",
    "        )\n",
    "        dimsVal = np.shape(val_inputs)\n",
    "        val_inputs = torch.reshape(val_inputs,[dimsVal[0],1,dimsVal[2],dimsVal[3]])\n",
    "        val_labels = torch.reshape(val_labels,[dimsVal[0],1,dimsVal[2],dimsVal[3]])\n",
    "        kk = model(val_inputs)\n",
    "        kk = sig(kk)\n",
    "        #kk = torch.where(kk>0.9, 1, 0)\n",
    "        x = x + 1\n",
    "        if (x==3):\n",
    "            break"
   ]
  },
  {
   "cell_type": "code",
   "execution_count": null,
   "metadata": {},
   "outputs": [],
   "source": [
    "kk1 = torch.where(kk>0.99, 1, 0)\n",
    "a = kk1\n",
    "b = val_labels\n",
    "print(np.shape(a))\n",
    "print(np.shape(b))"
   ]
  },
  {
   "cell_type": "code",
   "execution_count": null,
   "metadata": {},
   "outputs": [],
   "source": [
    "dice_metric(y_pred=a, y=b)"
   ]
  },
  {
   "cell_type": "code",
   "execution_count": null,
   "metadata": {},
   "outputs": [],
   "source": [
    "# plot the slice [:, :, 80]\n",
    "plt.figure(\"check\", (18, 6))\n",
    "plt.subplot(1, 3, 1)\n",
    "plt.title(f\"image\")\n",
    "plt.imshow(val_inputs[0, 0, :, :].cpu().detach().numpy(), cmap=\"gray\")\n",
    "plt.subplot(1, 3, 2)\n",
    "plt.title(f\"label\")\n",
    "plt.imshow(val_labels[0, 0, :, :].cpu().detach().numpy(), cmap=\"gray\")\n",
    "plt.subplot(1, 3, 3)\n",
    "plt.title(f\"output\")\n",
    "plt.imshow(kk[:, :, 0], cmap=\"gray\") #kk\n",
    "plt.show()"
   ]
  },
  {
   "cell_type": "code",
   "execution_count": null,
   "metadata": {},
   "outputs": [],
   "source": [
    "# plot the slice [:, :, 80]\n",
    "plt.figure(\"check\", (18, 6))\n",
    "plt.subplot(1, 3, 1)\n",
    "plt.title(f\"image\")\n",
    "plt.imshow(val_inputs[1, 0, :, :].cpu().detach().numpy(), cmap=\"gray\")\n",
    "plt.subplot(1, 3, 2)\n",
    "plt.title(f\"label\")\n",
    "plt.imshow(val_labels[1, 0, :, :].cpu().detach().numpy(), cmap=\"gray\")\n",
    "plt.subplot(1, 3, 3)\n",
    "plt.title(f\"output\")\n",
    "plt.imshow(kk1[1, 0, :, :].cpu().detach().numpy(), cmap=\"gray\") #kk1\n",
    "plt.show()"
   ]
  },
  {
   "cell_type": "markdown",
   "metadata": {},
   "source": [
    "# Testing!"
   ]
  },
  {
   "cell_type": "markdown",
   "metadata": {},
   "source": [
    "## Load model and save prediction masks "
   ]
  },
  {
   "cell_type": "code",
   "execution_count": null,
   "metadata": {},
   "outputs": [],
   "source": [
    "root_dir = \"/home/users/jvilaca/raul/Methods/UNet/Dec21_11-21-54\"\n",
    "pathSave = root_dir + \"/predLabelsTh99\"\n",
    "os.mkdir(pathSave)\n",
    "pathSave = pathSave + \"/\"\n",
    "pathSave"
   ]
  },
  {
   "cell_type": "code",
   "execution_count": null,
   "metadata": {},
   "outputs": [],
   "source": [
    "#model_name = \"final_metric_model.pth\"\n",
    "model_name = \"best_metric_model.pth\"\n",
    "\n",
    "checkpoint = torch.load(os.path.join(root_dir , model_name))\n",
    "model.load_state_dict(checkpoint['model'])\n",
    "\n",
    "model.eval()\n",
    "i = 0\n",
    "\n",
    "with torch.no_grad():\n",
    "    for test_data in test_loader:\n",
    "        test_inputs, test_labels = (\n",
    "            test_data[\"image\"].to(device),\n",
    "            test_data[\"label\"].to(device),\n",
    "        )\n",
    "        dimsTest = np.shape(test_inputs)\n",
    "        test_inputs = torch.reshape(test_inputs,[dimsTest[0],1,dimsTest[2],dimsTest[3]])\n",
    "        test_labels = torch.reshape(test_labels,[dimsTest[0],1,dimsTest[2],dimsTest[3]])\n",
    "        kk = model(test_inputs)\n",
    "        kk = sig(kk)\n",
    "        kk = torch.where(kk>0.99, 1, 0)\n",
    "        kk = np.expand_dims(kk[0,0,:,:].cpu().detach().numpy(), axis = 2) \n",
    "        name = test_files[i]['image']\n",
    "        masknii = nib.load(name)  \n",
    "        m = masknii.affine\n",
    "        header = masknii.header\n",
    "        predicted = nib.Nifti1Image(kk, m, header)\n",
    "        nib.save(predicted, pathSave+ '/' + name.split('/')[-1])\n",
    "        i = i + 1"
   ]
  },
  {
   "cell_type": "code",
   "execution_count": null,
   "metadata": {},
   "outputs": [],
   "source": [
    "# plot the slice [:, :, 80]\n",
    "plt.figure(\"check\", (18, 6))\n",
    "plt.subplot(1, 3, 1)\n",
    "plt.title(f\"image\")\n",
    "plt.imshow(test_inputs[0, 0, :, :].cpu().detach().numpy(), cmap=\"gray\")\n",
    "plt.subplot(1, 3, 2)\n",
    "plt.title(f\"label\")\n",
    "plt.imshow(test_labels[0, 0, :, :].cpu().detach().numpy(), cmap=\"gray\")\n",
    "plt.subplot(1, 3, 3)\n",
    "plt.title(f\"output\")\n",
    "plt.imshow(kk[:, :, 0], cmap=\"gray\")\n",
    "plt.show()"
   ]
  },
  {
   "cell_type": "code",
   "execution_count": null,
   "metadata": {},
   "outputs": [],
   "source": []
  }
 ],
 "metadata": {
  "kernelspec": {
   "display_name": "Python 3 (ipykernel)",
   "language": "python",
   "name": "python3"
  },
  "language_info": {
   "codemirror_mode": {
    "name": "ipython",
    "version": 3
   },
   "file_extension": ".py",
   "mimetype": "text/x-python",
   "name": "python",
   "nbconvert_exporter": "python",
   "pygments_lexer": "ipython3",
   "version": "3.9.7"
  }
 },
 "nbformat": 4,
 "nbformat_minor": 4
}
