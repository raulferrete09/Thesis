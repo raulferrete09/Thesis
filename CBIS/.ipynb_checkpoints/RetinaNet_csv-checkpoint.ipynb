{
 "cells": [
  {
   "cell_type": "markdown",
   "id": "83a841f1-c275-4a6c-a8c0-cbdab3fd3753",
   "metadata": {
    "tags": []
   },
   "source": [
    "# Imports"
   ]
  },
  {
   "cell_type": "code",
   "execution_count": 1,
   "id": "dd94dc05-02f9-4849-8d21-27244a9bd673",
   "metadata": {},
   "outputs": [],
   "source": [
    "import numpy as np\n",
    "import cv2 as cv\n",
    "import pandas\n",
    "import csv\n",
    "import glob, os\n",
    "import matplotlib.pyplot as plt"
   ]
  },
  {
   "cell_type": "markdown",
   "id": "3892c3ad-4f9b-4054-8f9d-cf45205d5faf",
   "metadata": {
    "tags": []
   },
   "source": [
    "# CSV creation"
   ]
  },
  {
   "cell_type": "code",
   "execution_count": null,
   "id": "d784c3fb-ecb0-4a92-8f44-ef38490e2dc7",
   "metadata": {},
   "outputs": [],
   "source": [
    "def createcsv():\n",
    "    \n",
    "    # create the csv writer\n",
    "   \n",
    "\n",
    "    # write a row to the csv file\n",
    "    "
   ]
  },
  {
   "cell_type": "code",
   "execution_count": 23,
   "id": "160fa03e-9121-4536-ae86-46cc2e778933",
   "metadata": {},
   "outputs": [],
   "source": [
    "import os\n",
    "import glob \n",
    "os.chdir(\"E:/Dataset/Mammography/3_1\")\n",
    "\n",
    "old_patient=\"\"\n",
    "actual_patient=\"/\"\n",
    "row = []\n",
    "with open('E:/Dataset/Mammography/retinanet.csv', 'w') as f:\n",
    "    writer = csv.writer(f)\n",
    "    for file in glob.glob(\"*_mask.png\"):\n",
    "        countour=[]\n",
    "        img = cv.imread(f'E:/Dataset/Mammography/3_1/{file}',0)\n",
    "        kernel = np.ones((3,3), np.uint8)\n",
    "        img_erosion = cv.erode(img, kernel, iterations=1)\n",
    "        img_dilation = cv.dilate(img_erosion, kernel, iterations=1)\n",
    "        contours, hierarchy = cv.findContours(img_dilation, cv.RETR_EXTERNAL, cv.CHAIN_APPROX_NONE)\n",
    "        countour=contours[0]\n",
    "        if len(contours) >1:\n",
    "            for i in range(len(contours)):\n",
    "                if(len(countour)<len(contours[i])):\n",
    "                    countour=contours[i]\n",
    "        M = cv.moments(countour)\n",
    "        cX = int(M[\"m10\"] / M[\"m00\"])\n",
    "        cY = int(M[\"m01\"] / M[\"m00\"])  \n",
    "        X_ax = []\n",
    "        Y_ax = []\n",
    "        for i in countour:           \n",
    "            X_ax.append(i[0][0])\n",
    "            Y_ax.append(i[0][1])\n",
    "        ponto_menor=[np.int64(min(X_ax)).item()-50,np.int64(min(Y_ax)).item()-50]\n",
    "        ponto_maior=[np.int64(max(X_ax)).item()+50, np.int64(max(Y_ax)).item()+50]\n",
    "        bb_size=[ponto_maior[0]-ponto_menor[0], ponto_maior[1]-ponto_menor[1]]\n",
    "        filesplit = file.split(\"_\")\n",
    "        filename= \"E:/Dataset/Mammography/3_5/\" + filesplit[0]+\"_\"+filesplit[1]+\"_\"+filesplit[2]+\"_\"+filesplit[3]+\".png\"\n",
    "        classe = \"roi\"\n",
    "        data = [filename,ponto_menor[0],ponto_menor[1],ponto_maior[0],ponto_maior[1],classe]\n",
    "        row.append(data)\n",
    "    writer.writerows(row)\n",
    "    f.close()"
   ]
  },
  {
   "cell_type": "code",
   "execution_count": 24,
   "id": "b15409c0-133a-4440-bd7a-e31558d46fe4",
   "metadata": {},
   "outputs": [],
   "source": [
    "with open('E:/Dataset/Mammography/quotes.csv', 'w', newline='') as file:\n",
    "    writer = csv.writer(file, quoting=csv.QUOTE_NONNUMERIC, delimiter=',')\n",
    "    writer.writerows(row)"
   ]
  },
  {
   "cell_type": "code",
   "execution_count": null,
   "id": "afd08ae1-7c74-48a4-882f-42d0bce99d02",
   "metadata": {},
   "outputs": [],
   "source": []
  }
 ],
 "metadata": {
  "kernelspec": {
   "display_name": "Python 3 (ipykernel)",
   "language": "python",
   "name": "python3"
  },
  "language_info": {
   "codemirror_mode": {
    "name": "ipython",
    "version": 3
   },
   "file_extension": ".py",
   "mimetype": "text/x-python",
   "name": "python",
   "nbconvert_exporter": "python",
   "pygments_lexer": "ipython3",
   "version": "3.8.13"
  }
 },
 "nbformat": 4,
 "nbformat_minor": 5
}
